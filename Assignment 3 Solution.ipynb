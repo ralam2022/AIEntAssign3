{
 "cells": [
  {
   "cell_type": "markdown",
   "id": "0a6c77b9",
   "metadata": {},
   "source": [
    "# Assignment 3 Solution"
   ]
  },
  {
   "cell_type": "markdown",
   "id": "f6a3c8cb",
   "metadata": {},
   "source": [
    "## Submitted By: Raniya Alam (100889828), Shubham Jindal (100843466)"
   ]
  },
  {
   "cell_type": "code",
   "execution_count": 1,
   "id": "54bc509e",
   "metadata": {},
   "outputs": [
    {
     "name": "stdout",
     "output_type": "stream",
     "text": [
      "Requirement already satisfied: ruamel_yaml in /opt/anaconda3/lib/python3.9/site-packages (0.17.21)\n",
      "Requirement already satisfied: ruamel.yaml.clib>=0.2.6 in /opt/anaconda3/lib/python3.9/site-packages (from ruamel_yaml) (0.2.7)\n",
      "Note: you may need to restart the kernel to use updated packages.\n"
     ]
    }
   ],
   "source": [
    "pip install ruamel_yaml"
   ]
  },
  {
   "cell_type": "code",
   "execution_count": 2,
   "id": "1bc2547b",
   "metadata": {},
   "outputs": [
    {
     "name": "stdout",
     "output_type": "stream",
     "text": [
      "zsh:1: command not found: virtualenv\r\n"
     ]
    }
   ],
   "source": [
    "!virtualenv assignment3"
   ]
  },
  {
   "cell_type": "code",
   "execution_count": 3,
   "id": "6bdadea5",
   "metadata": {},
   "outputs": [],
   "source": [
    "!source assignment3/bin/activate"
   ]
  },
  {
   "cell_type": "code",
   "execution_count": 4,
   "id": "f1ce247b",
   "metadata": {
    "scrolled": true
   },
   "outputs": [
    {
     "name": "stdout",
     "output_type": "stream",
     "text": [
      "Requirement already satisfied: flask in /opt/anaconda3/lib/python3.9/site-packages (2.2.3)\n",
      "Requirement already satisfied: flask-sqlalchemy in /opt/anaconda3/lib/python3.9/site-packages (3.0.3)\n",
      "Requirement already satisfied: itsdangerous>=2.0 in /opt/anaconda3/lib/python3.9/site-packages (from flask) (2.0.1)\n",
      "Requirement already satisfied: Werkzeug>=2.2.2 in /opt/anaconda3/lib/python3.9/site-packages (from flask) (2.2.3)\n",
      "Requirement already satisfied: click>=8.0 in /opt/anaconda3/lib/python3.9/site-packages (from flask) (8.0.4)\n",
      "Requirement already satisfied: importlib-metadata>=3.6.0 in /opt/anaconda3/lib/python3.9/site-packages (from flask) (4.11.3)\n",
      "Requirement already satisfied: Jinja2>=3.0 in /opt/anaconda3/lib/python3.9/site-packages (from flask) (3.1.2)\n",
      "Requirement already satisfied: SQLAlchemy>=1.4.18 in /opt/anaconda3/lib/python3.9/site-packages (from flask-sqlalchemy) (1.4.32)\n",
      "Requirement already satisfied: zipp>=0.5 in /opt/anaconda3/lib/python3.9/site-packages (from importlib-metadata>=3.6.0->flask) (3.7.0)\n",
      "Requirement already satisfied: MarkupSafe>=2.0 in /opt/anaconda3/lib/python3.9/site-packages (from Jinja2>=3.0->flask) (2.1.2)\n",
      "Requirement already satisfied: greenlet!=0.4.17 in /opt/anaconda3/lib/python3.9/site-packages (from SQLAlchemy>=1.4.18->flask-sqlalchemy) (1.1.1)\n"
     ]
    }
   ],
   "source": [
    "!pip3 install flask flask-sqlalchemy"
   ]
  },
  {
   "cell_type": "code",
   "execution_count": null,
   "id": "12721f3b",
   "metadata": {},
   "outputs": [
    {
     "name": "stdout",
     "output_type": "stream",
     "text": [
      " * Serving Flask app '__main__'\n",
      " * Debug mode: off\n"
     ]
    },
    {
     "name": "stderr",
     "output_type": "stream",
     "text": [
      "WARNING: This is a development server. Do not use it in a production deployment. Use a production WSGI server instead.\n",
      " * Running on http://127.0.0.1:5000\n",
      "Press CTRL+C to quit\n",
      "127.0.0.1 - - [28/Mar/2023 02:33:26] \"GET / HTTP/1.1\" 200 -\n",
      "127.0.0.1 - - [28/Mar/2023 02:33:26] \"GET /static/css/main.css HTTP/1.1\" 304 -\n",
      "127.0.0.1 - - [28/Mar/2023 02:33:26] \"GET /favicon.ico HTTP/1.1\" 404 -\n",
      "127.0.0.1 - - [28/Mar/2023 02:33:27] \"GET / HTTP/1.1\" 200 -\n",
      "127.0.0.1 - - [28/Mar/2023 02:33:27] \"GET /static/css/main.css HTTP/1.1\" 304 -\n",
      "127.0.0.1 - - [28/Mar/2023 02:40:20] \"GET /create HTTP/1.1\" 200 -\n",
      "127.0.0.1 - - [28/Mar/2023 02:40:20] \"GET /static/css/main.css HTTP/1.1\" 304 -\n",
      "127.0.0.1 - - [28/Mar/2023 02:48:53] \"POST /create HTTP/1.1\" 302 -\n",
      "127.0.0.1 - - [28/Mar/2023 02:48:53] \"GET / HTTP/1.1\" 200 -\n",
      "127.0.0.1 - - [28/Mar/2023 02:48:53] \"GET /static/css/main.css HTTP/1.1\" 304 -\n",
      "127.0.0.1 - - [28/Mar/2023 02:48:57] \"GET /read HTTP/1.1\" 200 -\n",
      "127.0.0.1 - - [28/Mar/2023 02:48:57] \"GET /static/css/main.css HTTP/1.1\" 304 -\n",
      "127.0.0.1 - - [28/Mar/2023 02:49:09] \"POST /read HTTP/1.1\" 200 -\n",
      "127.0.0.1 - - [28/Mar/2023 02:49:09] \"GET /static/css/main.css HTTP/1.1\" 304 -\n",
      "127.0.0.1 - - [28/Mar/2023 02:50:59] \"GET /update/9876 HTTP/1.1\" 200 -\n",
      "127.0.0.1 - - [28/Mar/2023 02:50:59] \"GET /static/css/main.css HTTP/1.1\" 304 -\n",
      "127.0.0.1 - - [28/Mar/2023 02:51:30] \"POST /update/9876 HTTP/1.1\" 200 -\n",
      "127.0.0.1 - - [28/Mar/2023 02:52:11] \"POST /read HTTP/1.1\" 200 -\n",
      "127.0.0.1 - - [28/Mar/2023 02:52:11] \"GET /static/css/main.css HTTP/1.1\" 304 -\n",
      "127.0.0.1 - - [28/Mar/2023 02:52:57] \"GET /delete/9876 HTTP/1.1\" 200 -\n",
      "127.0.0.1 - - [28/Mar/2023 02:53:38] \"GET /showall HTTP/1.1\" 200 -\n",
      "127.0.0.1 - - [28/Mar/2023 02:53:38] \"GET /static/css/main.css HTTP/1.1\" 304 -\n",
      "127.0.0.1 - - [28/Mar/2023 02:53:51] \"GET /create HTTP/1.1\" 200 -\n",
      "127.0.0.1 - - [28/Mar/2023 02:53:51] \"GET /static/css/main.css HTTP/1.1\" 304 -\n",
      "127.0.0.1 - - [28/Mar/2023 02:54:07] \"POST /create HTTP/1.1\" 302 -\n",
      "127.0.0.1 - - [28/Mar/2023 02:54:07] \"GET / HTTP/1.1\" 200 -\n",
      "127.0.0.1 - - [28/Mar/2023 02:54:07] \"GET /static/css/main.css HTTP/1.1\" 304 -\n",
      "127.0.0.1 - - [28/Mar/2023 02:54:11] \"GET /showall HTTP/1.1\" 200 -\n",
      "127.0.0.1 - - [28/Mar/2023 02:54:11] \"GET /static/css/main.css HTTP/1.1\" 304 -\n",
      "127.0.0.1 - - [28/Mar/2023 02:54:40] \"GET /delete/9876 HTTP/1.1\" 200 -\n",
      "127.0.0.1 - - [28/Mar/2023 02:54:49] \"GET /showall HTTP/1.1\" 200 -\n",
      "127.0.0.1 - - [28/Mar/2023 02:54:49] \"GET /static/css/main.css HTTP/1.1\" 304 -\n"
     ]
    }
   ],
   "source": [
    "from flask import Flask, render_template, url_for, request, redirect\n",
    "from flask_sqlalchemy import SQLAlchemy\n",
    "from datetime import datetime\n",
    "\n",
    "app = Flask(__name__)\n",
    "app.config['SQLALCHEMY_DATABASE_URI'] = 'sqlite:///students.db'\n",
    "db = SQLAlchemy(app)\n",
    "\n",
    "class Student(db.Model):\n",
    "    id = db.Column(db.Integer, primary_key=True)\n",
    "    first_name = db.Column(db.String(50), nullable=False)\n",
    "    last_name = db.Column(db.String(50), nullable=False)\n",
    "    dob = db.Column(db.DateTime, nullable=False)\n",
    "    amount_due = db.Column(db.Float, default=0)\n",
    "\n",
    "    def __repr__(self):\n",
    "        return f\"Student('{self.first_name}', '{self.last_name}', '{self.dob.strftime('%m/%d/%Y')}', '{self.amount_due}')\"\n",
    "\n",
    "with app.app_context():\n",
    "    db.create_all()\n",
    "\n",
    "@app.route('/', methods=['POST', 'GET'])\n",
    "def home():\n",
    "    return render_template('index.html')\n",
    "\n",
    "#Create record\n",
    "@app.route('/create', methods=['POST', 'GET'])\n",
    "def create():\n",
    "    if request.method == 'POST':\n",
    "        s_id = int(request.form['id'])\n",
    "        first_name = request.form['firstname']\n",
    "        last_name = request.form['lastname']\n",
    "        dob = datetime.strptime(request.form['dob'], '%m/%d/%Y')\n",
    "        amount_due = float(request.form['amountdue'])\n",
    "        new_student = Student(id=s_id, first_name=first_name, last_name=last_name, dob=dob, amount_due=amount_due)\n",
    "        try:\n",
    "            db.session.add(new_student)\n",
    "            db.session.commit()\n",
    "            return redirect('/')\n",
    "        except:\n",
    "            return 'There was an error adding record'\n",
    "    return render_template('create.html')\n",
    "\n",
    "#Read single record\n",
    "@app.route('/read', methods=['POST', 'GET'])\n",
    "def read():\n",
    "    if request.method == 'POST':\n",
    "        s_id = int(request.form['id'])\n",
    "        students = Student.query.filter_by(id=s_id).all()\n",
    "        if students:\n",
    "            return render_template('read.html', students=students)\n",
    "        else:\n",
    "            return 'No record found'\n",
    "    else:\n",
    "        return render_template('read.html')\n",
    "\n",
    "#Show all records\n",
    "@app.route('/showall', methods=['GET'])\n",
    "def showall():\n",
    "    students = Student.query.all()\n",
    "    return render_template('showall.html', students=students)\n",
    "\n",
    "#Delete student record\n",
    "@app.route('/delete/<int:id>')\n",
    "def delete(id):\n",
    "    student = Student.query.get_or_404(id)\n",
    "    try:\n",
    "        db.session.delete(student)\n",
    "        db.session.commit()\n",
    "        return 'Record deleted successfully'\n",
    "    except:\n",
    "        return 'There was a problem deleting student record'\n",
    "    \n",
    "#Update student record\n",
    "@app.route('/update/<int:id>', methods=['POST', 'GET'])\n",
    "def update(id):\n",
    "    student = Student.query.get_or_404(id)\n",
    "    if request.method == 'POST':\n",
    "        student.id = int(request.form['id'])\n",
    "        student.first_name = request.form['firstname']\n",
    "        student.last_name = request.form['lastname']\n",
    "        student.dob = datetime.strptime(request.form['dob'], '%m/%d/%Y')\n",
    "        student.amount_due = float(request.form['amountdue'])\n",
    "        try:\n",
    "            db.session.commit()\n",
    "            return 'Record updated successfully'\n",
    "        except:\n",
    "            return 'There was a problem updating student record'\n",
    "    else:\n",
    "        return render_template('update.html', student=student)\n",
    "\n",
    "if __name__ == '__main__':\n",
    "    app.run()"
   ]
  },
  {
   "cell_type": "code",
   "execution_count": null,
   "id": "bd94efb0",
   "metadata": {},
   "outputs": [],
   "source": []
  }
 ],
 "metadata": {
  "kernelspec": {
   "display_name": "Python 3 (ipykernel)",
   "language": "python",
   "name": "python3"
  },
  "language_info": {
   "codemirror_mode": {
    "name": "ipython",
    "version": 3
   },
   "file_extension": ".py",
   "mimetype": "text/x-python",
   "name": "python",
   "nbconvert_exporter": "python",
   "pygments_lexer": "ipython3",
   "version": "3.9.12"
  }
 },
 "nbformat": 4,
 "nbformat_minor": 5
}
